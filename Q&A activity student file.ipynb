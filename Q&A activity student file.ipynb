{
 "cells": [
  {
   "cell_type": "markdown",
   "metadata": {},
   "source": [
    "## 1. Complete the following code to find the area of an equilateral triangle. Output should be as displayed"
   ]
  },
  {
   "cell_type": "code",
   "execution_count": 1,
   "metadata": {},
   "outputs": [
    {
     "name": "stdout",
     "output_type": "stream",
     "text": [
      "Enter the side of the equilateral triangle: 5\n",
      "Area = 10.825\n"
     ]
    }
   ],
   "source": [
    "import math\n",
    "side = float(input(\"Enter the side of the equilateral triangle: \"))\n",
    "area = ((math.sqrt(3))/4)*pow(side,2)\n",
    "print('Area =',round(area,3))"
   ]
  },
  {
   "cell_type": "markdown",
   "metadata": {},
   "source": [
    "## 2. Write a program to count the number of each characters in a string"
   ]
  },
  {
   "cell_type": "code",
   "execution_count": 2,
   "metadata": {},
   "outputs": [
    {
     "name": "stdout",
     "output_type": "stream",
     "text": [
      "enter a string:abhishek jain\n",
      "Count of number of each characters in abhishek jain{'a': 2, 'b': 1, 'h': 2, 'i': 2, 's': 1, 'e': 1, 'k': 1, ' ': 1, 'j': 1, 'n': 1}\n"
     ]
    }
   ],
   "source": [
    "string1=input(\"enter a string:\")\n",
    "frequency={}\n",
    "for i in string1:\n",
    "    if i in frequency:\n",
    "        frequency[i]+=1\n",
    "    else:\n",
    "        frequency[i]=1\n",
    "print(\"Count of number of each characters in\",string1+str(frequency))"
   ]
  },
  {
   "cell_type": "markdown",
   "metadata": {},
   "source": [
    "## 3. Write a program to find the area and perimeter of a rectangle using functions"
   ]
  },
  {
   "cell_type": "code",
   "execution_count": 3,
   "metadata": {},
   "outputs": [
    {
     "name": "stdout",
     "output_type": "stream",
     "text": [
      "enter the length of the rectangle:6\n",
      "enter the breadth of the rectangle:4\n",
      "Area of rectangle : 24.0\n",
      "perimeter of rectangle : 20.0\n"
     ]
    }
   ],
   "source": [
    "def area_rectangle(l,b):\n",
    "    return l*b;\n",
    "def perimeter_rectangle(l,b):\n",
    "    return 2*(l+b);\n",
    "l1=float(input('enter the length of the rectangle:'))\n",
    "b1=float(input('enter the breadth of the rectangle:'))\n",
    "area=area_rectangle(l1,b1)\n",
    "perimeter=perimeter_rectangle(l1,b1)\n",
    "print('Area of rectangle :',area)\n",
    "print(\"perimeter of rectangle :\",perimeter)"
   ]
  },
  {
   "cell_type": "markdown",
   "metadata": {},
   "source": [
    "## 4. Write a program to print the fibonacci series till a specified number"
   ]
  },
  {
   "cell_type": "code",
   "execution_count": 4,
   "metadata": {},
   "outputs": [
    {
     "name": "stdout",
     "output_type": "stream",
     "text": [
      "enter a positive limit for the sequence:31\n",
      "Fibonacci series:\n",
      "0\n",
      "1\n",
      "1\n",
      "2\n",
      "3\n",
      "5\n",
      "8\n",
      "13\n",
      "21\n"
     ]
    }
   ],
   "source": [
    "n=int(input('enter a positive limit for the sequence:'))\n",
    "n1=0\n",
    "n2=1\n",
    "series=0\n",
    "if n==0:\n",
    "    print(\"the fibonacci series upto\",n)\n",
    "    print(n1)\n",
    "elif n==1:\n",
    "    print('the fibonacci series upto',n)\n",
    "    print(n1)\n",
    "    print(n2)\n",
    "else:\n",
    "    print('Fibonacci series:')\n",
    "    print(n1)\n",
    "    print(n2)\n",
    "    for i in range(2,n-1):\n",
    "        series=n1+n2\n",
    "        if series>=n:\n",
    "            break;\n",
    "        print(series)\n",
    "        n1=n2\n",
    "        n2=series"
   ]
  },
  {
   "cell_type": "markdown",
   "metadata": {},
   "source": [
    "## 5. Complete the following code to find the minimum of 3 number using conditional statements. Output should be as displayed"
   ]
  },
  {
   "cell_type": "code",
   "execution_count": 5,
   "metadata": {},
   "outputs": [
    {
     "name": "stdout",
     "output_type": "stream",
     "text": [
      "Enter three numbers followed by  : 12 25 -50\n",
      "First number : 12\n",
      "Second number : 25\n",
      "Third number : -50\n",
      "-50  is smallest\n"
     ]
    }
   ],
   "source": [
    "a,b,c = input(\"Enter three numbers followed by  : \").split()\n",
    "\n",
    "print(\"First number :\",a)\n",
    "print(\"Second number :\",b)\n",
    "print(\"Third number :\",c)\n",
    "if a==b and b==c:\n",
    "    print(\"Entered numbers are equal!!!\")\n",
    "elif a<b and a<c:\n",
    "    print(a,\" is smallest\")\n",
    "elif b<a and b<c:\n",
    "    print(b,\" is smallest\")\n",
    "else:\n",
    "    print(c,\" is smallest\")"
   ]
  },
  {
   "cell_type": "markdown",
   "metadata": {},
   "source": [
    "## 6. Write a program to print star pyramind. The number of rows should be taken as input from the user"
   ]
  },
  {
   "cell_type": "code",
   "execution_count": 6,
   "metadata": {},
   "outputs": [
    {
     "name": "stdout",
     "output_type": "stream",
     "text": [
      "enter the number of rows:6\n",
      "      * \n",
      "     * * \n",
      "    * * * \n",
      "   * * * * \n",
      "  * * * * * \n",
      " * * * * * * \n"
     ]
    }
   ],
   "source": [
    "n=int(input(\"enter the number of rows:\"))\n",
    "for i in range(n):\n",
    "    for j in range(n,i,-1):\n",
    "        print(end=\" \")\n",
    "    for k in range(i+1):\n",
    "        print(end=\"* \")\n",
    "    print()"
   ]
  },
  {
   "cell_type": "markdown",
   "metadata": {},
   "source": [
    "## 7. Complete the following code to convert hour into seconds. Output should be as displayed"
   ]
  },
  {
   "cell_type": "code",
   "execution_count": 7,
   "metadata": {},
   "outputs": [
    {
     "name": "stdout",
     "output_type": "stream",
     "text": [
      "Enter time in hours:20\n",
      "20  Hour is equal to 72000  Seconds\n"
     ]
    }
   ],
   "source": [
    "def to_seconds(t):\n",
    "    return t*60*60;\n",
    "time_in_hours = int(input('Enter time in hours:'))\n",
    "print(time_in_hours ,\" Hour is equal to\" ,to_seconds(time_in_hours) ,\" Seconds\")"
   ]
  },
  {
   "cell_type": "markdown",
   "metadata": {},
   "source": [
    "## 8. Write a program to print multiplication table as below"
   ]
  },
  {
   "cell_type": "code",
   "execution_count": 8,
   "metadata": {},
   "outputs": [
    {
     "name": "stdout",
     "output_type": "stream",
     "text": [
      "Enter a number to print multiplication table:37\n",
      "1 x 37 = 37\n",
      "2 x 37 = 74\n",
      "3 x 37 = 111\n",
      "4 x 37 = 148\n",
      "5 x 37 = 185\n",
      "6 x 37 = 222\n",
      "7 x 37 = 259\n",
      "8 x 37 = 296\n",
      "9 x 37 = 333\n",
      "10 x 37 = 370\n"
     ]
    }
   ],
   "source": [
    "num1=int(input('Enter a number to print multiplication table:'))\n",
    "for i in range(1,11):\n",
    "    product=i*num1\n",
    "    print(i , 'x' , num1 ,'=', product)"
   ]
  },
  {
   "cell_type": "markdown",
   "metadata": {},
   "source": [
    "## 9. Write a program to take your 5 favorite food as list and print each as 'I like Biriyani'"
   ]
  },
  {
   "cell_type": "code",
   "execution_count": 10,
   "metadata": {},
   "outputs": [
    {
     "name": "stdout",
     "output_type": "stream",
     "text": [
      "I like Chocolate\n",
      "I like milkshake\n",
      "I like mango\n",
      "I like momos\n",
      "I like Fried rice\n"
     ]
    }
   ],
   "source": [
    "food_list=['Chocolate','milkshake','mango','momos','Fried rice']\n",
    "for i in food_list:\n",
    "    print('I like ' + i)"
   ]
  }
 ],
 "metadata": {
  "kernelspec": {
   "display_name": "Python 3 (ipykernel)",
   "language": "python",
   "name": "python3"
  },
  "language_info": {
   "codemirror_mode": {
    "name": "ipython",
    "version": 3
   },
   "file_extension": ".py",
   "mimetype": "text/x-python",
   "name": "python",
   "nbconvert_exporter": "python",
   "pygments_lexer": "ipython3",
   "version": "3.9.7"
  }
 },
 "nbformat": 4,
 "nbformat_minor": 4
}
